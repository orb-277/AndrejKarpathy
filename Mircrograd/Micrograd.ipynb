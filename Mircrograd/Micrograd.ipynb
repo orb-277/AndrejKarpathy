{
 "cells": [
  {
   "cell_type": "code",
   "execution_count": 99,
   "metadata": {},
   "outputs": [],
   "source": [
    "import numpy as np\n",
    "import pandas as pd\n",
    "import matplotlib.pyplot as plt\n",
    "import math\n",
    "%matplotlib inline"
   ]
  },
  {
   "cell_type": "code",
   "execution_count": 165,
   "metadata": {},
   "outputs": [],
   "source": [
    "class Value:\n",
    "  def __init__(self,data,_children=(),_op='',label=''):\n",
    "      self.data = data\n",
    "      self._prev = set(_children)\n",
    "      self._backward = lambda: None\n",
    "      self._op = _op\n",
    "      self._grad = 0\n",
    "      self.label = label\n",
    "\n",
    "  def __repr__(self):\n",
    "      return f\"Value(data={self.data},label={self.label})\"\n",
    "\n",
    "  def __add__(self,other):\n",
    "      out = Value(self.data + other.data,(self,other),'+')\n",
    "      def _backward():\n",
    "          self._grad += 1*out._grad\n",
    "          other._grad += 1*out._grad\n",
    "      out._backward = _backward\n",
    "      return out\n",
    "\n",
    "  def __mul__(self,other):\n",
    "      out = Value(self.data * other.data,(self,other),'*')\n",
    "      def _backward():\n",
    "          self._grad += other._grad*out._grad\n",
    "          other._grad += self._grad*out._grad\n",
    "      out._backward = _backward\n",
    "      return out\n",
    "\n",
    "  def tanh(self):\n",
    "      x = self.data\n",
    "      t = (math.exp(2*x) - 1)/(math.exp(2*x) + 1)\n",
    "      out = Value(t, (self, ), 'tanh')\n",
    "        \n",
    "      def _backward():\n",
    "          self._grad += (1 - t**2) * out._grad\n",
    "      out._backward = _backward   \n",
    "      return out\n",
    "\n",
    "  def backward(self):  \n",
    "      topo = []\n",
    "      visited = set()\n",
    "      def build_topo(v):\n",
    "        if v not in visited:\n",
    "          visited.add(v)\n",
    "          for child in v._prev:\n",
    "            build_topo(child)\n",
    "          topo.append(v)\n",
    "      build_topo(self)\n",
    "      print(topo)\n",
    "        \n",
    "      self._grad = 1.0\n",
    "        \n",
    "      for node in reversed(topo):\n",
    "        node._backward()\n",
    "\n",
    "class Value1:\n",
    "  \n",
    "  def __init__(self, data, _children=(), _op='', label=''):\n",
    "    self.data = data\n",
    "    self.grad = 0.0\n",
    "    self._backward = lambda: None\n",
    "    self._prev = set(_children)\n",
    "    self._op = _op\n",
    "    self.label = label\n",
    "\n",
    "  def __repr__(self):\n",
    "    return f\"Value(data={self.data},label={self.label})\"\n",
    "  \n",
    "  def __add__(self, other):\n",
    "    out = Value1(self.data + other.data, (self, other), '+')\n",
    "    \n",
    "    def _backward():\n",
    "      self.grad += 1.0 * out.grad\n",
    "      other.grad += 1.0 * out.grad\n",
    "    out._backward = _backward\n",
    "    \n",
    "    return out\n",
    "\n",
    "  def __mul__(self, other):\n",
    "    out = Value1(self.data * other.data, (self, other), '*')\n",
    "    \n",
    "    def _backward():\n",
    "      self.grad += other.data * out.grad\n",
    "      other.grad += self.data * out.grad\n",
    "    out._backward = _backward\n",
    "      \n",
    "    return out\n",
    "  \n",
    "  def tanh(self):\n",
    "    x = self.data\n",
    "    t = (math.exp(2*x) - 1)/(math.exp(2*x) + 1)\n",
    "    out = Value1(t, (self, ), 'tanh')\n",
    "    \n",
    "    def _backward():\n",
    "      self.grad += (1 - t**2) * out.grad\n",
    "    out._backward = _backward\n",
    "    \n",
    "    return out\n",
    "  \n",
    "  def backward(self):\n",
    "    \n",
    "    topo = []\n",
    "    visited = set()\n",
    "    def build_topo(v):\n",
    "      if v not in visited:\n",
    "        visited.add(v)\n",
    "        for child in v._prev:\n",
    "          build_topo(child)\n",
    "        topo.append(v)\n",
    "    build_topo(self)\n",
    "    print(topo)\n",
    "    \n",
    "    self.grad = 1.0\n",
    "    for node in reversed(topo):\n",
    "      node._backward()\n",
    "\n",
    "    \n",
    "\n"
   ]
  },
  {
   "cell_type": "code",
   "execution_count": 166,
   "metadata": {},
   "outputs": [],
   "source": [
    "from graphviz import Digraph\n",
    "\n",
    "def trace(root):\n",
    "  # builds a set of all nodes and edges in a graph\n",
    "  nodes, edges = set(), set()\n",
    "  def build(v):\n",
    "    if v not in nodes:\n",
    "      nodes.add(v)\n",
    "      for child in v._prev:\n",
    "        edges.add((child, v))\n",
    "        build(child)\n",
    "  build(root)\n",
    "  return nodes, edges\n",
    "\n",
    "def draw_dot(root):\n",
    "  dot = Digraph(format='svg', graph_attr={'rankdir': 'LR'}) # LR = left to right\n",
    "  \n",
    "  nodes, edges = trace(root)\n",
    "  for n in nodes:\n",
    "    uid = str(id(n))\n",
    "    # for any value in the graph, create a rectangular ('record') node for it\n",
    "    dot.node(name = uid, label = \"{ %s | data %.4f | grad %.4f }\" % (n._label, n.data, n._grad), shape='record')\n",
    "    if n._op:\n",
    "      # if this value is a result of some operation, create an op node for it\n",
    "      dot.node(name = uid + n._op, label = n._op)\n",
    "      # and connect this node to it\n",
    "      dot.edge(uid + n._op, uid)\n",
    "\n",
    "  for n1, n2 in edges:\n",
    "    # connect n1 to the op node of n2\n",
    "    dot.edge(str(id(n1)), str(id(n2)) + n2._op)\n",
    "\n",
    "  return dot"
   ]
  },
  {
   "cell_type": "code",
   "execution_count": null,
   "metadata": {},
   "outputs": [],
   "source": []
  },
  {
   "cell_type": "code",
   "execution_count": 167,
   "metadata": {},
   "outputs": [],
   "source": [
    "\n",
    "\n",
    "# inputs x1,x2\n",
    "x1_ = Value(2.0, label='x1')\n",
    "x2_ = Value(0.0, label='x2')\n",
    "# weights w1,w2\n",
    "w1_ = Value(-3.0, label='w1')\n",
    "w2_ = Value(1.0, label='w2')\n",
    "# bias of the neuron\n",
    "b_ = Value(6.8813735870195432, label='b')\n",
    "# x1*w1 + x2*w2 + b\n",
    "x1_w1_ = x1_*w1_; x1_w1_.label = 'x1*w1'\n",
    "x2_w2_ = x2_*w2_; x2_w2_.label = 'x2*w2'\n",
    "x1w1x2w2_ = x1_w1_ + x2_w2_; x1w1x2w2_.label = 'x1*w1 + x2*w2'\n",
    "n_ = x1w1x2w2_ + b_; n_.label = 'n'\n",
    "o_ = n_.tanh(); o_.label = 'o'\n",
    "\n"
   ]
  },
  {
   "cell_type": "code",
   "execution_count": 168,
   "metadata": {},
   "outputs": [
    {
     "name": "stdout",
     "output_type": "stream",
     "text": [
      "[Value(data=1.0,label=w2), Value(data=0.0,label=x2), Value(data=0.0,label=x2*w2), Value(data=-3.0,label=w1), Value(data=2.0,label=x1), Value(data=-6.0,label=x1*w1), Value(data=-6.0,label=x1*w1 + x2*w2), Value(data=6.881373587019543,label=b), Value(data=0.8813735870195432,label=n), Value(data=0.7071067811865476,label=o)]\n"
     ]
    }
   ],
   "source": [
    "o_.backward()"
   ]
  },
  {
   "cell_type": "code",
   "execution_count": 169,
   "metadata": {},
   "outputs": [
    {
     "data": {
      "text/plain": [
       "0.0"
      ]
     },
     "execution_count": 169,
     "metadata": {},
     "output_type": "execute_result"
    }
   ],
   "source": [
    "x1_._grad"
   ]
  },
  {
   "cell_type": "code",
   "execution_count": 170,
   "metadata": {},
   "outputs": [],
   "source": [
    "x1 = Value1(2.0, label='x1')\n",
    "x2 = Value1(0.0, label='x2')\n",
    "# weights w1,w2\n",
    "w1 = Value1(-3.0, label='w1')\n",
    "w2 = Value1(1.0, label='w2')\n",
    "# bias of the neuron\n",
    "b = Value1(6.8813735870195432, label='b')\n",
    "# x1*w1 + x2*w2 + b\n",
    "x1w1 = x1*w1; x1w1.label = 'x1*w1'\n",
    "x2w2 = x2*w2; x2w2.label = 'x2*w2'\n",
    "x1w1x2w2 = x1w1 + x2w2; x1w1x2w2.label = 'x1*w1 + x2*w2'\n",
    "n = x1w1x2w2 + b; n.label = 'n'\n",
    "o = n.tanh(); o.label = 'o'"
   ]
  },
  {
   "cell_type": "code",
   "execution_count": 171,
   "metadata": {},
   "outputs": [
    {
     "name": "stdout",
     "output_type": "stream",
     "text": [
      "[Value(data=6.881373587019543,label=b), Value(data=2.0,label=x1), Value(data=-3.0,label=w1), Value(data=-6.0,label=x1*w1), Value(data=1.0,label=w2), Value(data=0.0,label=x2), Value(data=0.0,label=x2*w2), Value(data=-6.0,label=x1*w1 + x2*w2), Value(data=0.8813735870195432,label=n), Value(data=0.7071067811865476,label=o)]\n"
     ]
    }
   ],
   "source": [
    "o.backward()"
   ]
  },
  {
   "cell_type": "code",
   "execution_count": 172,
   "metadata": {},
   "outputs": [
    {
     "data": {
      "text/plain": [
       "-1.4999999999999996"
      ]
     },
     "execution_count": 172,
     "metadata": {},
     "output_type": "execute_result"
    }
   ],
   "source": [
    "x1.grad"
   ]
  },
  {
   "cell_type": "code",
   "execution_count": null,
   "metadata": {},
   "outputs": [],
   "source": []
  }
 ],
 "metadata": {
  "kernelspec": {
   "display_name": "Python 3.9.12 ('simpleR')",
   "language": "python",
   "name": "python3"
  },
  "language_info": {
   "codemirror_mode": {
    "name": "ipython",
    "version": 3
   },
   "file_extension": ".py",
   "mimetype": "text/x-python",
   "name": "python",
   "nbconvert_exporter": "python",
   "pygments_lexer": "ipython3",
   "version": "3.9.12"
  },
  "orig_nbformat": 4,
  "vscode": {
   "interpreter": {
    "hash": "a5af40dd3c790670c5ce3d9b10c799dc27e7f5416f8b61331ed09f0ca0cfd7e5"
   }
  }
 },
 "nbformat": 4,
 "nbformat_minor": 2
}
