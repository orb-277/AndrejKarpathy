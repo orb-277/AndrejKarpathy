{
 "cells": [
  {
   "cell_type": "code",
   "execution_count": 1,
   "metadata": {},
   "outputs": [],
   "source": [
    "words = open('names.txt','r').read().splitlines()"
   ]
  },
  {
   "cell_type": "code",
   "execution_count": 2,
   "metadata": {},
   "outputs": [],
   "source": [
    "import torch\n",
    "import torch.nn.functional as F\n",
    "import matplotlib.pyplot as plt"
   ]
  },
  {
   "cell_type": "code",
   "execution_count": 3,
   "metadata": {},
   "outputs": [
    {
     "name": "stdout",
     "output_type": "stream",
     "text": [
      "{1: 'a', 2: 'b', 3: 'c', 4: 'd', 5: 'e', 6: 'f', 7: 'g', 8: 'h', 9: 'i', 10: 'j', 11: 'k', 12: 'l', 13: 'm', 14: 'n', 15: 'o', 16: 'p', 17: 'q', 18: 'r', 19: 's', 20: 't', 21: 'u', 22: 'v', 23: 'w', 24: 'x', 25: 'y', 26: 'z', 0: '.'}\n"
     ]
    }
   ],
   "source": [
    "chars = sorted(list(set(''.join(words))))\n",
    "stoi = {s:i+1 for i,s in enumerate(chars)}\n",
    "stoi['.'] = 0\n",
    "itos = {i:s for s,i in stoi.items()}\n",
    "print(itos)"
   ]
  },
  {
   "cell_type": "code",
   "execution_count": 7,
   "metadata": {},
   "outputs": [],
   "source": [
    "block_size = 3 # context length: how many characters do we take to predict the next one?\n",
    "X, Y = [], []\n",
    "for w in words[:5]:\n",
    "  \n",
    "  #print(w)\n",
    "  context = [0] * block_size\n",
    "  for ch in w + '.':\n",
    "    ix = stoi[ch]\n",
    "    X.append(context)\n",
    "    Y.append(ix)\n",
    "    #print(''.join(itos[i] for i in context), '--->', itos[ix])\n",
    "    context = context[1:] + [ix] # crop and append\n",
    "  \n",
    "X = torch.tensor(X)\n",
    "Y = torch.tensor(Y)"
   ]
  },
  {
   "cell_type": "code",
   "execution_count": 8,
   "metadata": {},
   "outputs": [
    {
     "data": {
      "text/plain": [
       "(torch.Size([32, 3]), torch.int64, torch.Size([32]), torch.int64)"
      ]
     },
     "execution_count": 8,
     "metadata": {},
     "output_type": "execute_result"
    }
   ],
   "source": [
    "X.shape, X.dtype, Y.shape, Y.dtype"
   ]
  },
  {
   "cell_type": "code",
   "execution_count": 9,
   "metadata": {},
   "outputs": [],
   "source": [
    "C = torch.randn((27,2))"
   ]
  },
  {
   "cell_type": "code",
   "execution_count": 10,
   "metadata": {},
   "outputs": [],
   "source": [
    "emb = C[X]"
   ]
  },
  {
   "cell_type": "code",
   "execution_count": 11,
   "metadata": {},
   "outputs": [
    {
     "data": {
      "text/plain": [
       "torch.Size([32, 3, 2])"
      ]
     },
     "execution_count": 11,
     "metadata": {},
     "output_type": "execute_result"
    }
   ],
   "source": [
    "emb.shape"
   ]
  },
  {
   "cell_type": "code",
   "execution_count": 12,
   "metadata": {},
   "outputs": [],
   "source": [
    "W1 = torch.randn((6,100))\n",
    "b = torch.randn((100))"
   ]
  },
  {
   "cell_type": "code",
   "execution_count": 13,
   "metadata": {},
   "outputs": [
    {
     "data": {
      "text/plain": [
       "tensor([[-0.8735,  1.2604],\n",
       "        [-0.8735,  1.2604],\n",
       "        [-0.8735,  1.2604],\n",
       "        [-0.6232, -1.2912],\n",
       "        [-0.1084,  0.4704],\n",
       "        [-0.8735,  1.2604],\n",
       "        [-0.8735,  1.2604],\n",
       "        [-0.8735,  1.2604],\n",
       "        [-0.9414,  0.5984],\n",
       "        [ 1.3457, -2.0653],\n",
       "        [-0.3165, -0.0381],\n",
       "        [-1.0675,  0.5478],\n",
       "        [-0.8735,  1.2604],\n",
       "        [-0.8735,  1.2604],\n",
       "        [-0.8735,  1.2604],\n",
       "        [ 1.0981, -0.2600],\n",
       "        [-0.8735,  1.2604],\n",
       "        [-0.8735,  1.2604],\n",
       "        [-0.8735,  1.2604],\n",
       "        [-0.3165, -0.0381],\n",
       "        [ 0.1816,  0.0409],\n",
       "        [ 1.0981, -0.2600],\n",
       "        [-1.2391, -0.3799],\n",
       "        [-0.6232, -1.2912],\n",
       "        [ 1.3457, -2.0653],\n",
       "        [-0.8735,  1.2604],\n",
       "        [-0.8735,  1.2604],\n",
       "        [-0.8735,  1.2604],\n",
       "        [ 0.1816,  0.0409],\n",
       "        [-0.9414,  0.5984],\n",
       "        [-0.6220,  0.4749],\n",
       "        [ 0.5388, -2.0661]])"
      ]
     },
     "execution_count": 13,
     "metadata": {},
     "output_type": "execute_result"
    }
   ],
   "source": [
    "emb[:,0,:]"
   ]
  },
  {
   "cell_type": "code",
   "execution_count": 17,
   "metadata": {},
   "outputs": [
    {
     "data": {
      "text/plain": [
       "torch.Size([32, 6])"
      ]
     },
     "execution_count": 17,
     "metadata": {},
     "output_type": "execute_result"
    }
   ],
   "source": [
    "torch.cat([emb[:,0,:],emb[:,1,:],emb[:,2,:]],1).shape"
   ]
  },
  {
   "cell_type": "code",
   "execution_count": 18,
   "metadata": {},
   "outputs": [
    {
     "data": {
      "text/plain": [
       "torch.Size([32, 6])"
      ]
     },
     "execution_count": 18,
     "metadata": {},
     "output_type": "execute_result"
    }
   ],
   "source": [
    "torch.cat(torch.unbind(emb,1),1).shape"
   ]
  },
  {
   "cell_type": "code",
   "execution_count": 19,
   "metadata": {},
   "outputs": [
    {
     "data": {
      "text/plain": [
       "tensor([[-0.8735,  1.2604, -0.8735,  1.2604, -0.8735,  1.2604],\n",
       "        [-0.8735,  1.2604, -0.8735,  1.2604, -0.6232, -1.2912],\n",
       "        [-0.8735,  1.2604, -0.6232, -1.2912, -0.1084,  0.4704],\n",
       "        [-0.6232, -1.2912, -0.1084,  0.4704, -0.1084,  0.4704],\n",
       "        [-0.1084,  0.4704, -0.1084,  0.4704,  1.0981, -0.2600],\n",
       "        [-0.8735,  1.2604, -0.8735,  1.2604, -0.8735,  1.2604],\n",
       "        [-0.8735,  1.2604, -0.8735,  1.2604, -0.9414,  0.5984],\n",
       "        [-0.8735,  1.2604, -0.9414,  0.5984,  1.3457, -2.0653],\n",
       "        [-0.9414,  0.5984,  1.3457, -2.0653, -0.3165, -0.0381],\n",
       "        [ 1.3457, -2.0653, -0.3165, -0.0381, -1.0675,  0.5478],\n",
       "        [-0.3165, -0.0381, -1.0675,  0.5478, -0.3165, -0.0381],\n",
       "        [-1.0675,  0.5478, -0.3165, -0.0381,  1.0981, -0.2600],\n",
       "        [-0.8735,  1.2604, -0.8735,  1.2604, -0.8735,  1.2604],\n",
       "        [-0.8735,  1.2604, -0.8735,  1.2604,  1.0981, -0.2600],\n",
       "        [-0.8735,  1.2604,  1.0981, -0.2600, -1.0675,  0.5478],\n",
       "        [ 1.0981, -0.2600, -1.0675,  0.5478,  1.0981, -0.2600],\n",
       "        [-0.8735,  1.2604, -0.8735,  1.2604, -0.8735,  1.2604],\n",
       "        [-0.8735,  1.2604, -0.8735,  1.2604, -0.3165, -0.0381],\n",
       "        [-0.8735,  1.2604, -0.3165, -0.0381,  0.1816,  0.0409],\n",
       "        [-0.3165, -0.0381,  0.1816,  0.0409,  1.0981, -0.2600],\n",
       "        [ 0.1816,  0.0409,  1.0981, -0.2600, -1.2391, -0.3799],\n",
       "        [ 1.0981, -0.2600, -1.2391, -0.3799, -0.6232, -1.2912],\n",
       "        [-1.2391, -0.3799, -0.6232, -1.2912,  1.3457, -2.0653],\n",
       "        [-0.6232, -1.2912,  1.3457, -2.0653,  1.3457, -2.0653],\n",
       "        [ 1.3457, -2.0653,  1.3457, -2.0653,  1.0981, -0.2600],\n",
       "        [-0.8735,  1.2604, -0.8735,  1.2604, -0.8735,  1.2604],\n",
       "        [-0.8735,  1.2604, -0.8735,  1.2604,  0.1816,  0.0409],\n",
       "        [-0.8735,  1.2604,  0.1816,  0.0409, -0.9414,  0.5984],\n",
       "        [ 0.1816,  0.0409, -0.9414,  0.5984, -0.6220,  0.4749],\n",
       "        [-0.9414,  0.5984, -0.6220,  0.4749,  0.5388, -2.0661],\n",
       "        [-0.6220,  0.4749,  0.5388, -2.0661, -0.3165, -0.0381],\n",
       "        [ 0.5388, -2.0661, -0.3165, -0.0381,  1.0981, -0.2600]])"
      ]
     },
     "execution_count": 19,
     "metadata": {},
     "output_type": "execute_result"
    }
   ],
   "source": [
    "emb.view(32,6)"
   ]
  },
  {
   "cell_type": "code",
   "execution_count": 20,
   "metadata": {},
   "outputs": [
    {
     "ename": "RuntimeError",
     "evalue": "The size of tensor a (6) must match the size of tensor b (2) at non-singleton dimension 1",
     "output_type": "error",
     "traceback": [
      "\u001b[0;31m---------------------------------------------------------------------------\u001b[0m",
      "\u001b[0;31mRuntimeError\u001b[0m                              Traceback (most recent call last)",
      "\u001b[1;32m/home/omkar/AndrejKarpathy/makemore/makemor2.ipynb Cell 14\u001b[0m in \u001b[0;36m<cell line: 1>\u001b[0;34m()\u001b[0m\n\u001b[0;32m----> <a href='vscode-notebook-cell:/home/omkar/AndrejKarpathy/makemore/makemor2.ipynb#X16sZmlsZQ%3D%3D?line=0'>1</a>\u001b[0m h \u001b[39m=\u001b[39m emb\u001b[39m.\u001b[39;49mview(\u001b[39m32\u001b[39;49m,\u001b[39m6\u001b[39;49m) \u001b[39m*\u001b[39;49m C \u001b[39m+\u001b[39m b\n",
      "\u001b[0;31mRuntimeError\u001b[0m: The size of tensor a (6) must match the size of tensor b (2) at non-singleton dimension 1"
     ]
    }
   ],
   "source": [
    "h = emb.view(32,6) * C + b"
   ]
  },
  {
   "cell_type": "code",
   "execution_count": null,
   "metadata": {},
   "outputs": [],
   "source": []
  }
 ],
 "metadata": {
  "kernelspec": {
   "display_name": "Python 3.9.12 ('simpleR')",
   "language": "python",
   "name": "python3"
  },
  "language_info": {
   "codemirror_mode": {
    "name": "ipython",
    "version": 3
   },
   "file_extension": ".py",
   "mimetype": "text/x-python",
   "name": "python",
   "nbconvert_exporter": "python",
   "pygments_lexer": "ipython3",
   "version": "3.9.12"
  },
  "orig_nbformat": 4,
  "vscode": {
   "interpreter": {
    "hash": "a5af40dd3c790670c5ce3d9b10c799dc27e7f5416f8b61331ed09f0ca0cfd7e5"
   }
  }
 },
 "nbformat": 4,
 "nbformat_minor": 2
}
